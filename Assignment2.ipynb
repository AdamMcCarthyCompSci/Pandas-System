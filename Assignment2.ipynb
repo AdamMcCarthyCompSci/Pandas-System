{
 "metadata": {
  "language_info": {
   "codemirror_mode": {
    "name": "ipython",
    "version": 3
   },
   "file_extension": ".py",
   "mimetype": "text/x-python",
   "name": "python",
   "nbconvert_exporter": "python",
   "pygments_lexer": "ipython3",
   "version": "3.8.5-final"
  },
  "orig_nbformat": 2,
  "kernelspec": {
   "name": "python3",
   "display_name": "Python 3.8.5 32-bit",
   "metadata": {
    "interpreter": {
     "hash": "77462f22be7f16a175993425fd9ff50328444c376bfe2c440834d379591696e1"
    }
   }
  }
 },
 "nbformat": 4,
 "nbformat_minor": 2,
 "cells": [
  {
   "source": [
    "# MySeries Class"
   ],
   "cell_type": "markdown",
   "metadata": {}
  },
  {
   "cell_type": "code",
   "execution_count": null,
   "metadata": {},
   "outputs": [],
   "source": [
    "class MySeries():\n",
    "    def __init__(self, series, **kwargs):\n",
    "        # Constructor builds dictionary with optional \"index\" kwarg. Accepts list or dictionary. Bounded by exception with instructions if data is incorrect.\n",
    "        try:\n",
    "            self.series = series\n",
    "            if 'index' in kwargs:\n",
    "                self.index = kwargs['index']\n",
    "                self.indexTest = True\n",
    "            else:\n",
    "                self.index = list()\n",
    "                for i,series in enumerate(series):\n",
    "                    self.index += [i]\n",
    "                self.indexTest = False  \n",
    "            if not isinstance(self.series,dict):\n",
    "                self.dictionary = {self.index[i]: self.series[i] for i in range(len(self.index))}\n",
    "            else:\n",
    "                self.dictionary = self.series\n",
    "        except:\n",
    "            print('Data Series Warning: Data should be in list or dictionary format. Optional \"index\" should be a list. Elements in \"index\" should equal elements in data. Elements in data should be numbers(float or int).')\n",
    "\n",
    "    def s_dict(self):\n",
    "        # Displays data in dictionary format.\n",
    "        if isinstance(self.series, dict):\n",
    "            return self.series\n",
    "        else:\n",
    "            return self.dictionary\n",
    "    \n",
    "    def min(self):\n",
    "        #Displays minimum value in data.\n",
    "        return min(self.dictionary.values())\n",
    "\n",
    "    def max(self):\n",
    "        #Displays maximum data.\n",
    "        return max(self.dictionary.values())\n",
    "    \n",
    "    def mean(self):\n",
    "        #Displays mean data.\n",
    "        return sum(self.dictionary.values()) / len(self.dictionary)\n",
    "\n",
    "    def print(self):\n",
    "        # Prints data in 2 column grid format. Formatted printing - variables aligned according to longest data point (index or value).\n",
    "        maxKeyLength = max(map(len, self.dictionary)) + 5\n",
    "        maxValueLength = len(str(max(self.dictionary.values()))) + 5\n",
    "        for i in self.dictionary:\n",
    "            print('{0:<{maxKeyLength}}{1:<{maxValueLength}}'.format(i,self.dictionary[i], maxKeyLength = maxKeyLength, maxValueLength = maxValueLength))\n",
    "\n",
    "    def item_at_ind(self,index):\n",
    "        # Displays value at given index.\n",
    "        if index in self.dictionary.keys():\n",
    "            return self.dictionary[index]\n",
    "        else:\n",
    "            print('Index must be an existing index.')\n"
   ]
  },
  {
   "source": [
    "# MyDataFrame Class"
   ],
   "cell_type": "markdown",
   "metadata": {}
  },
  {
   "cell_type": "code",
   "execution_count": null,
   "metadata": {},
   "outputs": [],
   "source": [
    "class MyDataFrame(MySeries):\n",
    "    # Inherits constructor from super class. Has its own constructor too.\n",
    "    def __init__(self, series, **kwargs):\n",
    "            try:\n",
    "                super().__init__(series, **kwargs)\n",
    "\n",
    "                # Code block to determine longest piece of data (key, value) for formatted printing. Bounded by exception which has instructions if incorrect data inputted.\n",
    "                keyList = list(map(str, self.dictionary.keys()))\n",
    "                maxKeyLength = max(map(len, keyList))\n",
    "                maxValueLength = 0\n",
    "                for key,value in self.dictionary.items():\n",
    "                    maxTest = list(map(str, value))\n",
    "                    if maxValueLength < len(str(max(maxTest, key = len))):\n",
    "                        maxValueLength = len(str(max(maxTest, key = len)))\n",
    "                self.maxLength = max(maxKeyLength, maxValueLength) + 5\n",
    "                \n",
    "                # Makes list of keys in dictionary.\n",
    "                self.newInd = list()\n",
    "                for i in self.dictionary:\n",
    "                    self.newInd += [i]\n",
    "            except:\n",
    "                print('Data Frame Warning: Data should be in list or dictionary format. Optional \"index\" should be a list. There should be the same number of elements in each data set, and the \"index\" should be equal to this number. Elements in each data set should be numbers(float or int).')\n",
    "\n",
    "    def print(self):\n",
    "        try:\n",
    "            # Gets longest index and compares to longest key/value for formatted printing. Prints top row of keys in data frame.\n",
    "            if self.indexTest and isinstance(self.series,dict):\n",
    "                indexList = list(map(str, self.index))\n",
    "                maxIndexLength = max(map(len, indexList))\n",
    "                self.maxLength = max(self.maxLength, maxIndexLength + 5)\n",
    "                print('{0:<{maxLength}}'.format(\"\", maxLength = self.maxLength), end = \"\")\n",
    "            for i in self.dictionary:\n",
    "                print('{0:<{maxLength}}'.format(i, maxLength = self.maxLength), end = \"\")\n",
    "            print(\"\")\n",
    "\n",
    "            # Prints optional index in first column, then cycles through given index of each data set.\n",
    "            for column in range(len(list(self.dictionary.values())[0])):\n",
    "                if self.indexTest and isinstance(self.series,dict):\n",
    "                    print('{0:<{maxLength}}'.format(self.index[column], maxLength = self.maxLength), end = \"\")\n",
    "                for i,row in enumerate(self.dictionary.values()):\n",
    "                    print('{0:<{maxLength}}'.format(row[column], maxLength = self.maxLength), end = \"\")\n",
    "                print(\"\")\n",
    "        except:\n",
    "            # Exception when data sets aren't in list format.\n",
    "            print('Error: Value corresponding to each key in data frame must be in list format. Example for list instance: [[0], [1], [2]]. Example for dictionary instance: {\"a\" : [0], \"b\" : [1], \"c\" : [2])')\n",
    "\n",
    "    def sort_values(self, columnName):\n",
    "        # Tests if input is an existing key in the dictionary. If not returns error.\n",
    "        if columnName in self.dictionary.keys():\n",
    "            self.columnName = columnName\n",
    "        else:\n",
    "            print('Error: Input must match an existing column name.')\n",
    "            return\n",
    "        \n",
    "        # Finds new order with sorted data set.\n",
    "        self.columnList = self.dictionary[self.columnName] \n",
    "        self.sortList = sorted(range(len(self.columnList)),key=self.columnList.__getitem__)\n",
    "        \n",
    "        \n",
    "        # Applies new order to each data set and builds new dictionary.\n",
    "        newList = list()\n",
    "        for key,value in enumerate(self.dictionary.values()):\n",
    "            newList += [[value[i] for i in self.sortList]]\n",
    "        newInd = list()\n",
    "        for i in self.dictionary:\n",
    "            newInd += [i]\n",
    "        self.dictionary = {newInd[i] : newList[i] for i in range(len(newInd))}\n",
    "    \n",
    "    def max(self):\n",
    "        # Displays maximum values of each data set.     \n",
    "        for key,value in enumerate(self.dictionary.values()):\n",
    "            print('{0:<{maxLength}}'.format(self.newInd[key], maxLength = self.maxLength), end = \"\")\n",
    "            print('{0:<{maxLength}.2f}'.format(max(value), maxLength = self.maxLength), end = \"\")\n",
    "            print(\"\")\n",
    "    \n",
    "    def min(self):\n",
    "        # Displays minimum values of each data set.     \n",
    "        for key,value in enumerate(self.dictionary.values()):\n",
    "            print('{0:<{maxLength}}'.format(self.newInd[key], maxLength = self.maxLength), end = \"\")\n",
    "            print('{0:<{maxLength}.2f}'.format(min(value), maxLength = self.maxLength), end = \"\")\n",
    "            print(\"\")\n",
    "    \n",
    "    def mean(self):\n",
    "        # Displays mean values of each data set.\n",
    "        for key,value in enumerate(self.dictionary.values()):\n",
    "            print('{0:<{maxLength}}'.format(self.newInd[key], maxLength = self.maxLength), end = \"\")\n",
    "            print('{0:<{maxLength}.2f}'.format(sum(value) / len(value), maxLength = self.maxLength), end = \"\")\n",
    "            print(\"\")     \n",
    "\n",
    "\n"
   ]
  },
  {
   "source": [
    "# MyDataSet Example Outputs"
   ],
   "cell_type": "markdown",
   "metadata": {}
  },
  {
   "cell_type": "code",
   "execution_count": null,
   "metadata": {},
   "outputs": [],
   "source": [
    "example1 = MySeries([1, 20, 300], index = ['dog', 'horse', 'pig'])\n",
    "example1.s_dict()"
   ]
  },
  {
   "cell_type": "code",
   "execution_count": null,
   "metadata": {},
   "outputs": [],
   "source": [
    "example2 = MySeries([1, 20, 300])\n",
    "example2.s_dict()"
   ]
  },
  {
   "cell_type": "code",
   "execution_count": null,
   "metadata": {},
   "outputs": [],
   "source": [
    "d = {'dog': 1, 'horse': 20, 'pig': 300}\n",
    "example3 = MySeries(d)\n",
    "example3.s_dict()"
   ]
  },
  {
   "cell_type": "code",
   "execution_count": null,
   "metadata": {},
   "outputs": [],
   "source": [
    "example3.min()"
   ]
  },
  {
   "cell_type": "code",
   "execution_count": null,
   "metadata": {},
   "outputs": [],
   "source": [
    "example3.max()"
   ]
  },
  {
   "cell_type": "code",
   "execution_count": null,
   "metadata": {},
   "outputs": [],
   "source": [
    "example3.mean()"
   ]
  },
  {
   "cell_type": "code",
   "execution_count": null,
   "metadata": {},
   "outputs": [],
   "source": [
    "example3.print()"
   ]
  },
  {
   "cell_type": "code",
   "execution_count": null,
   "metadata": {},
   "outputs": [],
   "source": [
    "example3.item_at_ind('dog')"
   ]
  },
  {
   "source": [
    "# MyDataFrame Example Outputs"
   ],
   "cell_type": "markdown",
   "metadata": {}
  },
  {
   "cell_type": "code",
   "execution_count": null,
   "metadata": {},
   "outputs": [],
   "source": [
    "d = {'Sun Hours': [4.5, 4.0, 5.1, 5], 'Max Temp': [19.6, 19.1, 19.6, 20.0], 'Min Temp': [12.7, 12.5, 13.3, 12.1], 'Rain (mm)': [82, 109, 65, 76], 'Rain Days': [13, 20, 10, 9.7]}\n",
    "example4 = MyDataFrame(d)\n",
    "example4.print()\n"
   ]
  },
  {
   "cell_type": "code",
   "execution_count": null,
   "metadata": {},
   "outputs": [],
   "source": [
    "example5 = MyDataFrame(d, index = ['Clare', 'Galway', 'Dublin', 'Wexford'])\n",
    "example5.print()"
   ]
  },
  {
   "source": [
    "## MyDataframe works with lists too, not just dictionaries.  The index just moves to where the key would be otherwise. Here are two examples:"
   ],
   "cell_type": "markdown",
   "metadata": {}
  },
  {
   "cell_type": "code",
   "execution_count": null,
   "metadata": {},
   "outputs": [],
   "source": [
    "e = [[4.5, 4.0, 5.1, 5], [19.6, 19.1, 19.6, 20.0], [12.7, 12.5, 13.3, 12.1], [82, 109, 65, 76], [13, 20, 10, 9.7]]\n",
    "example6 = MyDataFrame(e)\n",
    "example6.print()"
   ]
  },
  {
   "cell_type": "code",
   "execution_count": null,
   "metadata": {},
   "outputs": [],
   "source": [
    "example7 = MyDataFrame(e, index = ['Sun Hours', 'Max Temp', 'Min Temp', 'Rain (mm)', 'Rain Days'])\n",
    "example7.print()"
   ]
  },
  {
   "source": [
    "## Here are some more examples of the methods from MyDataFrame being used:"
   ],
   "cell_type": "markdown",
   "metadata": {}
  },
  {
   "cell_type": "code",
   "execution_count": null,
   "metadata": {},
   "outputs": [],
   "source": [
    "example7.sort_values('Rain (mm)')\n",
    "example7.print()"
   ]
  },
  {
   "cell_type": "code",
   "execution_count": null,
   "metadata": {},
   "outputs": [],
   "source": [
    "example7.max()"
   ]
  },
  {
   "cell_type": "code",
   "execution_count": null,
   "metadata": {},
   "outputs": [],
   "source": [
    "example7.min()"
   ]
  },
  {
   "cell_type": "code",
   "execution_count": null,
   "metadata": {},
   "outputs": [],
   "source": [
    "example7.mean()"
   ]
  }
 ]
}